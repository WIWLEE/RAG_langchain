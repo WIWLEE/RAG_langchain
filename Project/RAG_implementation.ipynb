{
 "cells": [
  {
   "cell_type": "code",
   "execution_count": 67,
   "id": "7b682483",
   "metadata": {},
   "outputs": [],
   "source": [
    "from langchain_text_splitters import RecursiveCharacterTextSplitter\n",
    "from langchain_community.vectorstores import FAISS\n",
    "from langchain_core.runnables import RunnablePassthrough\n",
    "from langchain_openai import ChatOpenAI, OpenAIEmbeddings\n",
    "from langchain_core.prompts import PromptTemplate\n",
    "\n",
    "# TavilySearchResults 검색 엔진\n",
    "from langchain_community.tools.tavily_search import TavilySearchResults\n",
    "\n",
    "#Output response\n",
    "from langchain_teddynote.messages import stream_response\n",
    "\n",
    "# API 설정\n",
    "from dotenv import load_dotenv\n"
   ]
  },
  {
   "cell_type": "code",
   "execution_count": 68,
   "id": "2ef9eb9c",
   "metadata": {},
   "outputs": [
    {
     "data": {
      "text/plain": [
       "True"
      ]
     },
     "execution_count": 68,
     "metadata": {},
     "output_type": "execute_result"
    }
   ],
   "source": [
    "# API 키 세팅\n",
    "load_dotenv()"
   ]
  },
  {
   "cell_type": "markdown",
   "id": "2ea03771",
   "metadata": {},
   "source": [
    "# General LLM"
   ]
  },
  {
   "cell_type": "code",
   "execution_count": 69,
   "id": "2812ca11",
   "metadata": {},
   "outputs": [],
   "source": [
    "question = \"2024 KBO MVP에 대해 알려줘\""
   ]
  },
  {
   "cell_type": "code",
   "execution_count": 70,
   "id": "efa3a180",
   "metadata": {},
   "outputs": [
    {
     "name": "stdout",
     "output_type": "stream",
     "text": [
      "2024 KBO 리그 MVP에 대한 정보는 현재로서는 제공할 수 없습니다. KBO 리그의 MVP는 시즌이 끝난 후 성적과 활약을 바탕으로 선정되기 때문에, 시즌이 진행 중이거나 아직 시작되지 않은 경우에는 예측하기 어렵습니다. 시즌이 진행되면서 선수들의 성적과 팀의 성과를 지켜보는 것이 중요합니다. 시즌이 끝난 후에는 공식 발표를 통해 MVP가 누구인지 알 수 있을 것입니다.\n"
     ]
    }
   ],
   "source": [
    "# 모델 4o 이용\n",
    "llm = ChatOpenAI(model_name=\"gpt-4o\", temperature=0)\n",
    "\n",
    "print(llm.invoke(question).content)"
   ]
  },
  {
   "cell_type": "markdown",
   "id": "d904ebb6",
   "metadata": {},
   "source": [
    "# RAG implementation"
   ]
  },
  {
   "cell_type": "code",
   "execution_count": 71,
   "id": "5d7ec474",
   "metadata": {},
   "outputs": [],
   "source": [
    "# Question\n",
    "question = \"2024 KBO MVP에 대해 알려줘\""
   ]
  },
  {
   "cell_type": "code",
   "execution_count": 72,
   "id": "50d1b459",
   "metadata": {},
   "outputs": [],
   "source": [
    "# 검색 결과 인스턴스를 생성\n",
    "search = TavilySearchResults(k=10)\n",
    "# 검색 결과를 가져오기\n",
    "output = search.invoke(question)\n",
    "text = \"\"\n",
    "for tmp in output :\n",
    "    text += \" \" + tmp['content'] + \"출처 :\" + tmp['url'] + \"\\n\""
   ]
  },
  {
   "cell_type": "code",
   "execution_count": 73,
   "id": "ee916ddc",
   "metadata": {},
   "outputs": [],
   "source": [
    "# 텍스트 분리 및 임베딩\n",
    "text_splitter = RecursiveCharacterTextSplitter(chunk_size=1000, chunk_overlap=100)\n",
    "splits = text_splitter.split_text(text)\n",
    "\n",
    "embedding_function = OpenAIEmbeddings()\n",
    "vectorstore = FAISS.from_texts(splits, embedding=embedding_function)\n",
    "\n",
    "# 포함되어있는 정보 검색\n",
    "retriever = vectorstore.as_retriever()\n",
    "\n",
    "# 프롬프트 템플릿 이용\n",
    "prompt = PromptTemplate.from_template(\n",
    "\"\"\"당신은 정보 검색을 전문적으로 수행하는 AI 어시스턴트입니다. \n",
    "사용자가 질문한 내용을 정확하고 신뢰할 수 있도록 제공된 문맥(context)을 기반으로 답변을 생성해야 합니다.\n",
    "\n",
    "**지침**\n",
    "1. 주어진 문맥(context)에서만 답변하세요.\n",
    "2. 문맥에 관련된 정보가 없다면, 답을 추측하지 말고 \"주어진 정보에서 질문에 대한 내용을 찾을 수 없습니다.\"라고 응답하세요.\n",
    "3. 응답을 명확하고 간결하게 정리하세요.\n",
    "4. 기술 용어나 고유 명사는 번역하지 말고 그대로 유지하세요.\n",
    "5. 가능하면 원문의 주요 문장을 요약하여 활용하세요.\n",
    "6. 검색에 참고한 URL도 함께 출력하세요.\n",
    "\n",
    "**입력 데이터**\n",
    "- 질문: 사용자의 질문\n",
    "- 문맥: 검색된 문서에서 제공된 정보\n",
    "\n",
    "**출력 형식**\n",
    "- **답변**: 질문에 대한 직접적인 응답\n",
    "- **출처**: 답변에 참고한 URL\n",
    "\n",
    "---\n",
    "\n",
    "🔹 **질문:**  \n",
    "{question}\n",
    "\n",
    "🔹 **문맥:**  \n",
    "{context}\n",
    "\n",
    "---\n",
    "\n",
    "✅ **답변:**\"\"\"\n",
    ")\n",
    "\n",
    "# 모델 4o 이용\n",
    "llm = ChatOpenAI(model_name=\"gpt-4o\", temperature=0)\n",
    "\n",
    "# 체인 생성\n",
    "rag_chain = (\n",
    "    {\"context\": retriever, \"question\": RunnablePassthrough()}\n",
    "    | prompt\n",
    "    | llm\n",
    ")\n",
    "\n"
   ]
  },
  {
   "cell_type": "code",
   "execution_count": 74,
   "id": "a11bcd9a",
   "metadata": {},
   "outputs": [
    {
     "name": "stdout",
     "output_type": "stream",
     "text": [
      "**답변:** 2024 KBO 리그에서 KIA 타이거즈의 김도영이 MVP로 선정되었습니다. 그는 38홈런과 40도루를 기록하며 뛰어난 성적을 거두었습니다.\n",
      "\n",
      "**출처:** [조선일보](https://www.chosun.com/sports/baseball/2024/11/26/KHS7BOWC2VE7TPOSXKWIPQSGNM/), [국제뉴스](https://www.gukjenews.com/news/articleView.html?idxno=3144980)"
     ]
    }
   ],
   "source": [
    "answer = rag_chain.stream(question)\n",
    "stream_response(answer)"
   ]
  }
 ],
 "metadata": {
  "kernelspec": {
   "display_name": "RAG",
   "language": "python",
   "name": "python3"
  },
  "language_info": {
   "codemirror_mode": {
    "name": "ipython",
    "version": 3
   },
   "file_extension": ".py",
   "mimetype": "text/x-python",
   "name": "python",
   "nbconvert_exporter": "python",
   "pygments_lexer": "ipython3",
   "version": "3.11.0"
  }
 },
 "nbformat": 4,
 "nbformat_minor": 5
}
